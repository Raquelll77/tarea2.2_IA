{
  "nbformat": 4,
  "nbformat_minor": 0,
  "metadata": {
    "colab": {
      "provenance": [],
      "authorship_tag": "ABX9TyMu+BSLmqXzFb0Mnfkl7KCE",
      "include_colab_link": true
    },
    "kernelspec": {
      "name": "python3",
      "display_name": "Python 3"
    },
    "language_info": {
      "name": "python"
    }
  },
  "cells": [
    {
      "cell_type": "markdown",
      "metadata": {
        "id": "view-in-github",
        "colab_type": "text"
      },
      "source": [
        "<a href=\"https://colab.research.google.com/github/Raquelll77/tarea2.2_IA/blob/main/Ejercicio3.ipynb\" target=\"_parent\"><img src=\"https://colab.research.google.com/assets/colab-badge.svg\" alt=\"Open In Colab\"/></a>"
      ]
    },
    {
      "cell_type": "markdown",
      "source": [
        "Su empresa se dedica a recibir dispositivos para repararlos. En algunos casos, no\n",
        "se puede reparar y deben solicitar un dispositivo nuevo. Cuentan con una base de\n",
        "datos muy grande donde se registra el estado de cada componente del dispositivo,\n",
        "y un dato final indicando si pudo repararse o si fue necesario solicitar un dispostivo\n",
        "nuevo.\n",
        "Le solicitan que haga y entrene un modelo con esos datos, para que al final se\n",
        "ingresen los datos de los componentes, y muestre una predicción indicando si el\n",
        "dispostivo puede repararse, o si debe solicitarse uno nuevo.\n",
        "Responda a las siguientes preguntas:\n",
        "\n",
        "\n",
        "• ¿Qué tipo de modelo aplicaría?\n",
        "R// Aplicaría un modelo de clasificación supervisada, mis consideraciones serian entre arbol de decision y SVM (SVC).\n",
        "\n",
        "\n",
        "• ¿Por qué consideras que ese modelo es adecuado?\n",
        "R// Este modelo es adecuado porque necesitamos tomar una decisión binaria: ver si el dispositivo puede repararse o si necesita ser reemplazado. Al tratarse de una clasificación (dos posibles resultados), los algoritmos de clasificación como los mencionados funcionan bien, además de que suelen manejar bien grandes cantidades de datos.\n",
        "\n",
        "• ¿De qué manera considera que es diferente a la programación regular, para este tipo de proyectos?\n",
        "R// A diferencia de la programación regular, donde tienes que dar instrucciones detalladas sobre cómo resolver el problema, en machine learning lo que hacemos es entrenar el modelo. Esto significa que no le damos reglas específicas; en cambio, usamos datos de ejemplos anteriores y dejamos que el modelo detecte por sí mismo patrones y relaciones para aprender a clasificar. Aquí, por ejemplo, en lugar de decirle al modelo qué condiciones exactas determinan si un dispositivo es reparable o no, le damos ejemplos pasados para que encuentre esas relaciones automáticamente.\n",
        "\n",
        "¿Por qué cree que los modelos como los vistos en clase no logran llegar a un 100% de respuestas correctas?\n",
        "R// Creo que la razón principal es que siempre hay un poco de incertidumbre. Los datos que usamos para entrenar pueden tener variaciones o errores, o tal vez no representan todas las posibles combinaciones de componentes. También, el problema en sí puede ser bastante complejo: algunos patrones o interacciones entre componentes pueden ser difíciles de captar para el modelo. Además, los modelos de machine learning trabajan en términos de probabilidades, así que siempre va a haber un margen de error. Por eso, aunque los modelos pueden ser muy precisos, es muy difícil que lleguen a un 100% de aciertos."
      ],
      "metadata": {
        "id": "MxWoWiqNizcr"
      }
    },
    {
      "cell_type": "code",
      "execution_count": null,
      "metadata": {
        "id": "DPdskrbRit-n"
      },
      "outputs": [],
      "source": []
    }
  ]
}